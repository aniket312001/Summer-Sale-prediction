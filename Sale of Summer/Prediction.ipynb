{
 "cells": [
  {
   "cell_type": "code",
   "execution_count": 1,
   "metadata": {},
   "outputs": [],
   "source": [
    "import pandas as pd\n",
    "import numpy as np\n",
    "import seaborn as sns\n",
    "import matplotlib.pyplot as plt"
   ]
  },
  {
   "cell_type": "code",
   "execution_count": 2,
   "metadata": {},
   "outputs": [
    {
     "data": {
      "text/html": [
       "<div>\n",
       "<style scoped>\n",
       "    .dataframe tbody tr th:only-of-type {\n",
       "        vertical-align: middle;\n",
       "    }\n",
       "\n",
       "    .dataframe tbody tr th {\n",
       "        vertical-align: top;\n",
       "    }\n",
       "\n",
       "    .dataframe thead th {\n",
       "        text-align: right;\n",
       "    }\n",
       "</style>\n",
       "<table border=\"1\" class=\"dataframe\">\n",
       "  <thead>\n",
       "    <tr style=\"text-align: right;\">\n",
       "      <th></th>\n",
       "      <th>Unnamed: 0</th>\n",
       "      <th>retail_price</th>\n",
       "      <th>uses_ad_boosts</th>\n",
       "      <th>rating</th>\n",
       "      <th>rating_five_count</th>\n",
       "      <th>rating_one_count</th>\n",
       "      <th>badge_local_product</th>\n",
       "      <th>badge_product_quality</th>\n",
       "      <th>badge_fast_shipping</th>\n",
       "      <th>product_variation_inventory</th>\n",
       "      <th>shipping_option_name</th>\n",
       "      <th>shipping_option_price</th>\n",
       "      <th>shipping_is_express</th>\n",
       "      <th>countries_shipped_to</th>\n",
       "      <th>inventory_total</th>\n",
       "      <th>urgency_text</th>\n",
       "      <th>origin_country</th>\n",
       "      <th>merchant_rating_count</th>\n",
       "      <th>merchant_rating</th>\n",
       "      <th>merchant_has_profile_picture</th>\n",
       "      <th>price</th>\n",
       "    </tr>\n",
       "  </thead>\n",
       "  <tbody>\n",
       "    <tr>\n",
       "      <th>0</th>\n",
       "      <td>0</td>\n",
       "      <td>-0.306068</td>\n",
       "      <td>-0.873758</td>\n",
       "      <td>-0.118197</td>\n",
       "      <td>-0.419436</td>\n",
       "      <td>-0.400232</td>\n",
       "      <td>-0.137049</td>\n",
       "      <td>-0.283473</td>\n",
       "      <td>-0.113483</td>\n",
       "      <td>0.792577</td>\n",
       "      <td>-0.060987</td>\n",
       "      <td>1.615944</td>\n",
       "      <td>-0.050492</td>\n",
       "      <td>-0.318134</td>\n",
       "      <td>0.069727</td>\n",
       "      <td>1.518106</td>\n",
       "      <td>-0.181904</td>\n",
       "      <td>-0.330503</td>\n",
       "      <td>0.469832</td>\n",
       "      <td>-0.40961</td>\n",
       "      <td>16.00</td>\n",
       "    </tr>\n",
       "    <tr>\n",
       "      <th>1</th>\n",
       "      <td>1</td>\n",
       "      <td>-0.042461</td>\n",
       "      <td>1.144482</td>\n",
       "      <td>-0.719894</td>\n",
       "      <td>1.898524</td>\n",
       "      <td>4.654200</td>\n",
       "      <td>-0.137049</td>\n",
       "      <td>-0.283473</td>\n",
       "      <td>-0.113483</td>\n",
       "      <td>0.792577</td>\n",
       "      <td>-0.060987</td>\n",
       "      <td>-0.337095</td>\n",
       "      <td>-0.050492</td>\n",
       "      <td>0.026783</td>\n",
       "      <td>0.069727</td>\n",
       "      <td>1.518106</td>\n",
       "      <td>-0.181904</td>\n",
       "      <td>-0.111458</td>\n",
       "      <td>-0.648119</td>\n",
       "      <td>-0.40961</td>\n",
       "      <td>8.00</td>\n",
       "    </tr>\n",
       "    <tr>\n",
       "      <th>2</th>\n",
       "      <td>2</td>\n",
       "      <td>0.649507</td>\n",
       "      <td>-0.873758</td>\n",
       "      <td>-0.486979</td>\n",
       "      <td>-0.441137</td>\n",
       "      <td>-0.428628</td>\n",
       "      <td>-0.137049</td>\n",
       "      <td>-0.283473</td>\n",
       "      <td>-0.113483</td>\n",
       "      <td>-1.502897</td>\n",
       "      <td>-0.060987</td>\n",
       "      <td>0.639425</td>\n",
       "      <td>-0.050492</td>\n",
       "      <td>-0.219586</td>\n",
       "      <td>0.069727</td>\n",
       "      <td>1.518106</td>\n",
       "      <td>-0.181904</td>\n",
       "      <td>-0.333983</td>\n",
       "      <td>-0.207689</td>\n",
       "      <td>-0.40961</td>\n",
       "      <td>8.00</td>\n",
       "    </tr>\n",
       "    <tr>\n",
       "      <th>3</th>\n",
       "      <td>3</td>\n",
       "      <td>-0.503773</td>\n",
       "      <td>1.144482</td>\n",
       "      <td>0.405861</td>\n",
       "      <td>-0.141446</td>\n",
       "      <td>-0.272452</td>\n",
       "      <td>-0.137049</td>\n",
       "      <td>-0.283473</td>\n",
       "      <td>-0.113483</td>\n",
       "      <td>0.792577</td>\n",
       "      <td>-0.060987</td>\n",
       "      <td>-0.337095</td>\n",
       "      <td>-0.050492</td>\n",
       "      <td>0.026783</td>\n",
       "      <td>0.069727</td>\n",
       "      <td>-0.654761</td>\n",
       "      <td>-0.181904</td>\n",
       "      <td>-0.033956</td>\n",
       "      <td>-0.058184</td>\n",
       "      <td>-0.40961</td>\n",
       "      <td>8.00</td>\n",
       "    </tr>\n",
       "    <tr>\n",
       "      <th>4</th>\n",
       "      <td>4</td>\n",
       "      <td>-0.668528</td>\n",
       "      <td>1.144482</td>\n",
       "      <td>-1.399229</td>\n",
       "      <td>-0.440104</td>\n",
       "      <td>-0.414430</td>\n",
       "      <td>-0.137049</td>\n",
       "      <td>-0.283473</td>\n",
       "      <td>-0.113483</td>\n",
       "      <td>-1.502897</td>\n",
       "      <td>-0.060987</td>\n",
       "      <td>-1.313614</td>\n",
       "      <td>-0.050492</td>\n",
       "      <td>-0.268860</td>\n",
       "      <td>0.069727</td>\n",
       "      <td>1.518106</td>\n",
       "      <td>-0.181904</td>\n",
       "      <td>-0.153141</td>\n",
       "      <td>-0.150252</td>\n",
       "      <td>-0.40961</td>\n",
       "      <td>2.72</td>\n",
       "    </tr>\n",
       "  </tbody>\n",
       "</table>\n",
       "</div>"
      ],
      "text/plain": [
       "   Unnamed: 0  retail_price  uses_ad_boosts    rating  rating_five_count  \\\n",
       "0           0     -0.306068       -0.873758 -0.118197          -0.419436   \n",
       "1           1     -0.042461        1.144482 -0.719894           1.898524   \n",
       "2           2      0.649507       -0.873758 -0.486979          -0.441137   \n",
       "3           3     -0.503773        1.144482  0.405861          -0.141446   \n",
       "4           4     -0.668528        1.144482 -1.399229          -0.440104   \n",
       "\n",
       "   rating_one_count  badge_local_product  badge_product_quality  \\\n",
       "0         -0.400232            -0.137049              -0.283473   \n",
       "1          4.654200            -0.137049              -0.283473   \n",
       "2         -0.428628            -0.137049              -0.283473   \n",
       "3         -0.272452            -0.137049              -0.283473   \n",
       "4         -0.414430            -0.137049              -0.283473   \n",
       "\n",
       "   badge_fast_shipping  product_variation_inventory  shipping_option_name  \\\n",
       "0            -0.113483                     0.792577             -0.060987   \n",
       "1            -0.113483                     0.792577             -0.060987   \n",
       "2            -0.113483                    -1.502897             -0.060987   \n",
       "3            -0.113483                     0.792577             -0.060987   \n",
       "4            -0.113483                    -1.502897             -0.060987   \n",
       "\n",
       "   shipping_option_price  shipping_is_express  countries_shipped_to  \\\n",
       "0               1.615944            -0.050492             -0.318134   \n",
       "1              -0.337095            -0.050492              0.026783   \n",
       "2               0.639425            -0.050492             -0.219586   \n",
       "3              -0.337095            -0.050492              0.026783   \n",
       "4              -1.313614            -0.050492             -0.268860   \n",
       "\n",
       "   inventory_total  urgency_text  origin_country  merchant_rating_count  \\\n",
       "0         0.069727      1.518106       -0.181904              -0.330503   \n",
       "1         0.069727      1.518106       -0.181904              -0.111458   \n",
       "2         0.069727      1.518106       -0.181904              -0.333983   \n",
       "3         0.069727     -0.654761       -0.181904              -0.033956   \n",
       "4         0.069727      1.518106       -0.181904              -0.153141   \n",
       "\n",
       "   merchant_rating  merchant_has_profile_picture  price  \n",
       "0         0.469832                      -0.40961  16.00  \n",
       "1        -0.648119                      -0.40961   8.00  \n",
       "2        -0.207689                      -0.40961   8.00  \n",
       "3        -0.058184                      -0.40961   8.00  \n",
       "4        -0.150252                      -0.40961   2.72  "
      ]
     },
     "execution_count": 2,
     "metadata": {},
     "output_type": "execute_result"
    }
   ],
   "source": [
    "pd.pandas.set_option('display.max_columns',None)\n",
    "df = pd.read_csv('Final_data.csv')\n",
    "df.head()"
   ]
  },
  {
   "cell_type": "code",
   "execution_count": 3,
   "metadata": {},
   "outputs": [],
   "source": [
    "df.drop('Unnamed: 0',axis=1,inplace=True)"
   ]
  },
  {
   "cell_type": "code",
   "execution_count": 7,
   "metadata": {},
   "outputs": [],
   "source": [
    "from sklearn.model_selection import train_test_split\n",
    "\n",
    "X = df.drop('price',axis=1)\n",
    "y = df['price']\n",
    "\n",
    "X_train, X_test, y_train, y_test = train_test_split(X, y, test_size=0.33, random_state=42)"
   ]
  },
  {
   "cell_type": "markdown",
   "metadata": {},
   "source": [
    "# Linear Regression"
   ]
  },
  {
   "cell_type": "code",
   "execution_count": 11,
   "metadata": {},
   "outputs": [
    {
     "name": "stdout",
     "output_type": "stream",
     "text": [
      "MAE -> 1.51785988747859\n",
      "MSE -> 3.3866333913051636\n",
      "RMSE -> 1.840280791429711\n",
      "\n",
      "Accuracy -> 0.7620050596690362\n"
     ]
    }
   ],
   "source": [
    "from sklearn.linear_model import LinearRegression\n",
    "from sklearn.metrics import mean_absolute_error,mean_squared_error,r2_score\n",
    "\n",
    "lr = LinearRegression()\n",
    "lr.fit(X_train,y_train)\n",
    "\n",
    "lr_predict = lr.predict(X_test)\n",
    "\n",
    "print(f'MAE -> {mean_absolute_error(y_test,lr_predict)}')\n",
    "print(f'MSE -> {mean_squared_error(y_test,lr_predict)}')\n",
    "print(f'RMSE -> {np.sqrt(mean_squared_error(y_test,lr_predict))}')\n",
    "\n",
    "print()\n",
    "print(f'Accuracy -> {r2_score(y_test,lr_predict)}')"
   ]
  },
  {
   "cell_type": "markdown",
   "metadata": {},
   "source": [
    "# Cross-Validation"
   ]
  },
  {
   "cell_type": "code",
   "execution_count": 21,
   "metadata": {},
   "outputs": [
    {
     "name": "stdout",
     "output_type": "stream",
     "text": [
      "Score ->  [1.83157949 1.81789611 1.96196987 1.7309993  2.49167069 1.8828913\n",
      " 1.95279478 1.72103035 1.85295416 1.8160485 ]\n",
      "\n",
      "Mean ->  1.9059834554375197\n"
     ]
    }
   ],
   "source": [
    "from sklearn.model_selection import cross_val_score\n",
    "\n",
    "score = cross_val_score(lr,X,y,scoring='neg_mean_squared_error',cv=10)\n",
    "\n",
    "rmse_score = np.sqrt(-score)\n",
    "\n",
    "print('Score -> ',rmse_score)\n",
    "print()\n",
    "print('Mean -> ',rmse_score.mean())"
   ]
  },
  {
   "cell_type": "markdown",
   "metadata": {},
   "source": [
    "# Random Forest"
   ]
  },
  {
   "cell_type": "code",
   "execution_count": 25,
   "metadata": {},
   "outputs": [
    {
     "name": "stdout",
     "output_type": "stream",
     "text": [
      "MAE -> 0.911140576923077\n",
      "MSE -> 1.9772826242884614\n",
      "RMSE -> 1.4061588190131515\n",
      "\n",
      "Accuracy -> 0.861046884675159\n"
     ]
    }
   ],
   "source": [
    "from sklearn.ensemble import RandomForestRegressor\n",
    "\n",
    "rf = RandomForestRegressor()\n",
    "rf.fit(X_train,y_train)\n",
    "\n",
    "rf_predict = rf.predict(X_test)\n",
    "\n",
    "\n",
    "print(f'MAE -> {mean_absolute_error(y_test,rf_predict)}')\n",
    "print(f'MSE -> {mean_squared_error(y_test,rf_predict)}')\n",
    "print(f'RMSE -> {np.sqrt(mean_squared_error(y_test,rf_predict))}')\n",
    "\n",
    "print()\n",
    "print(f'Accuracy -> {r2_score(y_test,rf_predict)}')"
   ]
  }
 ],
 "metadata": {
  "kernelspec": {
   "display_name": "Python 3",
   "language": "python",
   "name": "python3"
  },
  "language_info": {
   "codemirror_mode": {
    "name": "ipython",
    "version": 3
   },
   "file_extension": ".py",
   "mimetype": "text/x-python",
   "name": "python",
   "nbconvert_exporter": "python",
   "pygments_lexer": "ipython3",
   "version": "3.7.6"
  }
 },
 "nbformat": 4,
 "nbformat_minor": 4
}
